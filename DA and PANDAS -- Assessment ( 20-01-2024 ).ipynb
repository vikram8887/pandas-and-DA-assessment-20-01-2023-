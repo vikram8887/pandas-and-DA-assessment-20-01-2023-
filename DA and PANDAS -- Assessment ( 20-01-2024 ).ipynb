{
 "cells": [
  {
   "cell_type": "markdown",
   "id": "6317a6f8",
   "metadata": {},
   "source": [
    "### 1. What will be the output of the following python programming"
   ]
  },
  {
   "cell_type": "markdown",
   "id": "ab89afab",
   "metadata": {},
   "source": [
    "* a) Error\n",
    "* b) None\n",
    "* c) False\n",
    "* d) True"
   ]
  },
  {
   "cell_type": "code",
   "execution_count": 2,
   "id": "8b6ee76f",
   "metadata": {},
   "outputs": [
    {
     "name": "stdout",
     "output_type": "stream",
     "text": [
      "True\n"
     ]
    }
   ],
   "source": [
    "def foo(x):\n",
    "    x[0] = ['def'] \n",
    "    x[1] = ['abc'] \n",
    "    return id(x)\n",
    "q = ['abc', 'def']\n",
    "print(id(q) == foo(q)) "
   ]
  },
  {
   "cell_type": "markdown",
   "id": "51208f33",
   "metadata": {},
   "source": [
    "### 2. What will be the output of the following Python code"
   ]
  },
  {
   "cell_type": "markdown",
   "id": "229e0cc1",
   "metadata": {},
   "source": [
    "* a) error,there is more than one return statement in asingle try-finally block\n",
    "* b) 1\n",
    "* c) 1 2\n",
    "* d) 2"
   ]
  },
  {
   "cell_type": "code",
   "execution_count": 6,
   "id": "4ac50d7e",
   "metadata": {},
   "outputs": [
    {
     "name": "stdout",
     "output_type": "stream",
     "text": [
      "2\n"
     ]
    }
   ],
   "source": [
    "def fun():\n",
    "    try:\n",
    "        return 1\n",
    "    finally:\n",
    "        return 2\n",
    "k = fun()\n",
    "print(k)"
   ]
  },
  {
   "cell_type": "markdown",
   "id": "93f53105",
   "metadata": {},
   "source": [
    "### 3. What will be the output of the following code snippet"
   ]
  },
  {
   "cell_type": "markdown",
   "id": "cad85433",
   "metadata": {},
   "source": [
    "* a)Local\n",
    "* b)Global\n",
    "* c) None\n",
    "* d) Cannot be predicted"
   ]
  },
  {
   "cell_type": "code",
   "execution_count": 7,
   "id": "0a56643b",
   "metadata": {},
   "outputs": [
    {
     "name": "stdout",
     "output_type": "stream",
     "text": [
      "Local\n"
     ]
    }
   ],
   "source": [
    "def func(): # you define a function func() that uses the global keyword to refer to the global variable value\n",
    "    global value # you have a global variable value initially set to \"Global\".\n",
    "    value = \"Local\" # assign it the value \"Local\".\n",
    "\n",
    "value = \"Global\" # value is initially set to \"Global.\"\n",
    "func() # The function func() is called, which changes the value of the global variable value to \"Local\" using the global keyword.\n",
    "print(value)"
   ]
  },
  {
   "cell_type": "markdown",
   "id": "6a2bb2f2",
   "metadata": {},
   "source": [
    "### 4) __________ exceptions are raised as a result of an error in opening a particular file"
   ]
  },
  {
   "cell_type": "markdown",
   "id": "9639c468",
   "metadata": {},
   "source": [
    "* a) ValueError\n",
    "* b) TypeError \n",
    "* c) ImportError\n",
    "* d) IOError"
   ]
  },
  {
   "cell_type": "code",
   "execution_count": null,
   "id": "d3abc016",
   "metadata": {},
   "outputs": [],
   "source": [
    "ANSWER---d)IOError "
   ]
  },
  {
   "cell_type": "markdown",
   "id": "03ee5f8b",
   "metadata": {},
   "source": [
    "### 5) In python we do not specify types, it is directly interpreted by the compiler, so consider the following operation to be performed"
   ]
  },
  {
   "cell_type": "markdown",
   "id": "4381d604",
   "metadata": {},
   "source": [
    "a) x = 13 // 2 b) x = int(13 / 2) c) x = 13 % 2 d) All of the mentioned\n",
    "\n",
    "In Python, the type of a variable is dynamically determined at runtime, and you don't need to explicitly specify types in most cases. Let's analyze the given operations:\n",
    "\n",
    "a) x = 13 // 2: This performs integer division, and the result is 6 (the floor division of 13 by 2). The type of x will be an integer.\n",
    "\n",
    "b) x = int(13 / 2): Here, you're explicitly converting the result of the division to an integer using the int() function. The result is 6, and the type of x will be an integer.\n",
    "\n",
    "c) x = 13 % 2: This performs the modulus operation, and the result is 1. The type of x will be an integer.\n",
    "\n",
    " d) All of the mentioned"
   ]
  },
  {
   "cell_type": "markdown",
   "id": "58a07eb8",
   "metadata": {},
   "source": [
    "Answer\n",
    "* d) All of the mentioned"
   ]
  },
  {
   "cell_type": "markdown",
   "id": "7d898875",
   "metadata": {},
   "source": [
    "### 6. What will be the output of the following pthon code\n",
    "\n",
    "* a) IndexError\n",
    "* b) NameError\n",
    "* c) TypeError\n",
    "* d) SyntacticalErroor"
   ]
  },
  {
   "cell_type": "code",
   "execution_count": 9,
   "id": "6847b2a0",
   "metadata": {},
   "outputs": [
    {
     "ename": "NameError",
     "evalue": "name 't' is not defined",
     "output_type": "error",
     "traceback": [
      "\u001b[1;31m---------------------------------------------------------------------------\u001b[0m",
      "\u001b[1;31mNameError\u001b[0m                                 Traceback (most recent call last)",
      "Cell \u001b[1;32mIn[9], line 1\u001b[0m\n\u001b[1;32m----> 1\u001b[0m t[\u001b[38;5;241m5\u001b[39m]\n",
      "\u001b[1;31mNameError\u001b[0m: name 't' is not defined"
     ]
    }
   ],
   "source": [
    "t[5]"
   ]
  },
  {
   "cell_type": "markdown",
   "id": "66c4ab04",
   "metadata": {},
   "source": [
    "ANSWER --- b) NameError"
   ]
  },
  {
   "cell_type": "markdown",
   "id": "44de9aec",
   "metadata": {},
   "source": [
    "### 7) A while loop is used for indefinite iteration.\n",
    "\n",
    "* a)Indefinite \n",
    "* b) Discriminant \n",
    "* c) Definite \n",
    "* d) Indeterminate\n",
    "\n",
    "##### Answer\n",
    "* a) Indefinite"
   ]
  },
  {
   "cell_type": "markdown",
   "id": "3a0b8898",
   "metadata": {},
   "source": [
    "### 8. What will be the output of the following Python code\n",
    "\n",
    "* a) a b c d e f\n",
    "* b) abcdef\n",
    "* c) i i i i ....\n",
    "* d) Error"
   ]
  },
  {
   "cell_type": "code",
   "execution_count": 10,
   "id": "a6e92ecd",
   "metadata": {},
   "outputs": [
    {
     "ename": "NameError",
     "evalue": "name 'i' is not defined",
     "output_type": "error",
     "traceback": [
      "\u001b[1;31m---------------------------------------------------------------------------\u001b[0m",
      "\u001b[1;31mNameError\u001b[0m                                 Traceback (most recent call last)",
      "Cell \u001b[1;32mIn[10], line 2\u001b[0m\n\u001b[0;32m      1\u001b[0m x \u001b[38;5;241m=\u001b[39m \u001b[38;5;124m\"\u001b[39m\u001b[38;5;124m abcde \u001b[39m\u001b[38;5;124m\"\u001b[39m\n\u001b[1;32m----> 2\u001b[0m \u001b[38;5;28;01mwhile\u001b[39;00m i \u001b[38;5;129;01min\u001b[39;00m x: \u001b[38;5;66;03m# The while loop in Python is typically used with a condition that evaluates to either True or False. In your initial code:\u001b[39;00m\n\u001b[0;32m      3\u001b[0m     \u001b[38;5;28mprint\u001b[39m(i,end\u001b[38;5;241m=\u001b[39m\u001b[38;5;124m\"\u001b[39m\u001b[38;5;124m \u001b[39m\u001b[38;5;124m\"\u001b[39m)\n",
      "\u001b[1;31mNameError\u001b[0m: name 'i' is not defined"
     ]
    }
   ],
   "source": [
    "x = \" abcde \"\n",
    "while i in x: # The while loop in Python is typically used with a condition that evaluates to either True or False. In your initial code:\n",
    "    print(i,end=\" \")"
   ]
  },
  {
   "cell_type": "markdown",
   "id": "f29db00f",
   "metadata": {},
   "source": [
    "##### Answer :\n",
    "d) Error"
   ]
  },
  {
   "cell_type": "markdown",
   "id": "f151151f",
   "metadata": {},
   "source": [
    "### 9. What is main advantage of using decorators in Python\n",
    "\n",
    "* a) They make the code more complex\n",
    "* b) simplify the syntax of the decorated functions\n",
    "* c) They reducxe the performance of the code\n",
    "* d) They provide additional security features"
   ]
  },
  {
   "cell_type": "markdown",
   "id": "5ced2462",
   "metadata": {},
   "source": [
    "##### Answer\n",
    "b) Simplify the syntax of the decorated functions"
   ]
  },
  {
   "cell_type": "markdown",
   "id": "bf2c6dc3",
   "metadata": {},
   "source": [
    "### 10. If return statement is not used inside the function, the funtion will return\n",
    "\n",
    "* a) None\n",
    "* b) 0\n",
    "* C) Null\n",
    "* d) Arbitary Value"
   ]
  },
  {
   "cell_type": "markdown",
   "id": "a44b2ae2",
   "metadata": {},
   "source": [
    "##### Answer\n",
    "a) None"
   ]
  },
  {
   "cell_type": "markdown",
   "id": "8f774b9a",
   "metadata": {},
   "source": [
    "### 11. When a function is defined inside a class it is called as __________\n",
    "\n",
    "* a) Class\n",
    "* b) Function\n",
    "* c) Method\n",
    "* d) Module"
   ]
  },
  {
   "cell_type": "markdown",
   "id": "9a893539",
   "metadata": {},
   "source": [
    "##### Answer\n",
    "c) Method"
   ]
  },
  {
   "cell_type": "markdown",
   "id": "a059c7c9",
   "metadata": {},
   "source": [
    "### 12. Which operator is used in python to import modules from packages\n",
    "\n",
    "* a) .\n",
    "* b) *\n",
    "* c) ->\n",
    "* d) &"
   ]
  },
  {
   "cell_type": "markdown",
   "id": "7808342c",
   "metadata": {},
   "source": [
    "##### Answer is\n",
    "a) ."
   ]
  },
  {
   "cell_type": "markdown",
   "id": "56fa0ba3",
   "metadata": {},
   "source": [
    "### 13-Question"
   ]
  },
  {
   "cell_type": "markdown",
   "id": "bee8ed22",
   "metadata": {},
   "source": [
    "* a)ValueError\n",
    "* b) Invalid\n",
    "* c) 6\n",
    "* d) ValueError('Invalid')"
   ]
  },
  {
   "cell_type": "code",
   "execution_count": 11,
   "id": "c6732ef5",
   "metadata": {},
   "outputs": [
    {
     "name": "stdout",
     "output_type": "stream",
     "text": [
      "6\n"
     ]
    }
   ],
   "source": [
    "def getMonth(m):\n",
    "    if m<1 or m>12:\n",
    "         raise ValueError(\"Invalid\")\n",
    "    print(m)\n",
    "getMonth(6)"
   ]
  },
  {
   "cell_type": "markdown",
   "id": "e4fbbc30",
   "metadata": {},
   "source": [
    "### 14. In python programming Language syntax error is detected by _____ at ____\n",
    "\n",
    "* a) Interpreter/Compile Time\n",
    "* b) RunTime/Interpreter\n",
    "* c) Interpreter/Runtime\n",
    "* d) Compile time/Runtime"
   ]
  },
  {
   "cell_type": "markdown",
   "id": "930e7f55",
   "metadata": {},
   "source": [
    "##### Answer\n",
    "c) Interpreter/Runtime"
   ]
  },
  {
   "cell_type": "markdown",
   "id": "3a18db28",
   "metadata": {},
   "source": [
    "### 15.\n",
    "\n",
    "* a) Both book1 and book2 will have reference to two different objects of class Book\n",
    "* b) id(book1) and id(book2) will have same value\n",
    "* c) It will throw an Error as multiple references to same object is not possible\n",
    "* d) None of the above"
   ]
  },
  {
   "cell_type": "code",
   "execution_count": 13,
   "id": "0102f06c",
   "metadata": {},
   "outputs": [
    {
     "data": {
      "text/plain": [
       "2048520403856"
      ]
     },
     "execution_count": 13,
     "metadata": {},
     "output_type": "execute_result"
    }
   ],
   "source": [
    "class Book: # Defines a class named Book\n",
    "    def __init__(self,author): # __init__ method to initialize instances with an author attribute.\n",
    "            self.author=author\n",
    "book1=Book(\"V.M.Shah\") # Creates an instance of the Book class named book1 with the author set to \"V.M.Shah.\"\n",
    "book2=book1 # Creates another reference (book2) to the same object that book1 refers to. Both book1 and book2\n",
    "# now point to the same instance of the Book class.\n",
    "\n",
    "# Now, both book1 and book2 reference the same instance of the Book class, and \n",
    "# any changes made to the object through one variable will be reflected in the other.\n",
    "id(book1)"
   ]
  },
  {
   "cell_type": "code",
   "execution_count": 14,
   "id": "875bee8c",
   "metadata": {},
   "outputs": [
    {
     "data": {
      "text/plain": [
       "2048520403856"
      ]
     },
     "execution_count": 14,
     "metadata": {},
     "output_type": "execute_result"
    }
   ],
   "source": [
    "id(book2)"
   ]
  },
  {
   "cell_type": "markdown",
   "id": "b85f0bcf",
   "metadata": {},
   "source": [
    "##### Answer\n",
    "b) id(book1) and id(book2) will have same value"
   ]
  },
  {
   "cell_type": "markdown",
   "id": "e546827c",
   "metadata": {},
   "source": [
    "## DATA ANALYSIS MODULES"
   ]
  },
  {
   "cell_type": "code",
   "execution_count": 16,
   "id": "e7012f3f",
   "metadata": {},
   "outputs": [],
   "source": [
    "import pandas as pd,numpy as np"
   ]
  },
  {
   "cell_type": "code",
   "execution_count": 18,
   "id": "8dc8a5c3",
   "metadata": {},
   "outputs": [
    {
     "data": {
      "text/html": [
       "<div>\n",
       "<style scoped>\n",
       "    .dataframe tbody tr th:only-of-type {\n",
       "        vertical-align: middle;\n",
       "    }\n",
       "\n",
       "    .dataframe tbody tr th {\n",
       "        vertical-align: top;\n",
       "    }\n",
       "\n",
       "    .dataframe thead th {\n",
       "        text-align: right;\n",
       "    }\n",
       "</style>\n",
       "<table border=\"1\" class=\"dataframe\">\n",
       "  <thead>\n",
       "    <tr style=\"text-align: right;\">\n",
       "      <th></th>\n",
       "      <th>date</th>\n",
       "      <th>Category</th>\n",
       "      <th>Product</th>\n",
       "      <th>Customer-Id</th>\n",
       "      <th>Quantity</th>\n",
       "      <th>UnitPrice</th>\n",
       "    </tr>\n",
       "  </thead>\n",
       "  <tbody>\n",
       "    <tr>\n",
       "      <th>0</th>\n",
       "      <td>2024-01-01</td>\n",
       "      <td>Beverage</td>\n",
       "      <td>Cappuccino</td>\n",
       "      <td>C004</td>\n",
       "      <td>1</td>\n",
       "      <td>3.0</td>\n",
       "    </tr>\n",
       "    <tr>\n",
       "      <th>1</th>\n",
       "      <td>2024-01-02</td>\n",
       "      <td>Food</td>\n",
       "      <td>Croissant</td>\n",
       "      <td>C002</td>\n",
       "      <td>2</td>\n",
       "      <td>2.0</td>\n",
       "    </tr>\n",
       "    <tr>\n",
       "      <th>2</th>\n",
       "      <td>2024-01-03</td>\n",
       "      <td>Beverage</td>\n",
       "      <td>Espresso</td>\n",
       "      <td>C001</td>\n",
       "      <td>2</td>\n",
       "      <td>2.0</td>\n",
       "    </tr>\n",
       "    <tr>\n",
       "      <th>3</th>\n",
       "      <td>2024-01-10</td>\n",
       "      <td>Beverage</td>\n",
       "      <td>Latte</td>\n",
       "      <td>C001</td>\n",
       "      <td>3</td>\n",
       "      <td>3.5</td>\n",
       "    </tr>\n",
       "    <tr>\n",
       "      <th>4</th>\n",
       "      <td>2024-01-9</td>\n",
       "      <td>Beverage</td>\n",
       "      <td>Lattle</td>\n",
       "      <td>C003</td>\n",
       "      <td>1</td>\n",
       "      <td>3.5</td>\n",
       "    </tr>\n",
       "    <tr>\n",
       "      <th>5</th>\n",
       "      <td>2024-01-8</td>\n",
       "      <td>Food</td>\n",
       "      <td>Muffin</td>\n",
       "      <td>C002</td>\n",
       "      <td>1</td>\n",
       "      <td>2.5</td>\n",
       "    </tr>\n",
       "  </tbody>\n",
       "</table>\n",
       "</div>"
      ],
      "text/plain": [
       "         date  Category     Product Customer-Id  Quantity  UnitPrice\n",
       "0  2024-01-01  Beverage  Cappuccino        C004         1        3.0\n",
       "1  2024-01-02      Food   Croissant        C002         2        2.0\n",
       "2  2024-01-03  Beverage    Espresso        C001         2        2.0\n",
       "3  2024-01-10  Beverage       Latte        C001         3        3.5\n",
       "4   2024-01-9  Beverage      Lattle        C003         1        3.5\n",
       "5   2024-01-8      Food      Muffin        C002         1        2.5"
      ]
     },
     "execution_count": 18,
     "metadata": {},
     "output_type": "execute_result"
    }
   ],
   "source": [
    "data=pd.DataFrame({'date':['2024-01-01','2024-01-02','2024-01-03','2024-01-10','2024-01-9','2024-01-8'],\n",
    "             'Category':['Beverage','Food','Beverage','Beverage','Beverage','Food'],\n",
    "             'Product':['Cappuccino','Croissant','Espresso','Latte','Lattle','Muffin'],\n",
    "             'Customer-Id':['C004','C002','C001','C001','C003','C002'],\n",
    "             'Quantity':[1,2,2,3,1,1,],\n",
    "             'UnitPrice':[3,2,2,3.5,3.5,2.5]})\n",
    "data"
   ]
  },
  {
   "cell_type": "markdown",
   "id": "e9ff9457",
   "metadata": {},
   "source": [
    "### 16. How to Create a new column Revenue which has value equals to the Quantity * UnitPrice of the current row\n",
    "\n",
    "* a)df['Revenue'] = df['Quantity'] * df['UnitPrice']\n",
    "* b)df['Revenue'] = df.apply(lambda x:x['Quantity']*x['UnitPrice'],axis=1)\n",
    "* c)df['Revenue'] = df.apply(lambda x:x['Quantity']*x['UnitPrice'],axis=0)\n",
    "* d)df['Revenue'] = df['Quantity'] ** df['UnitPrice']"
   ]
  },
  {
   "cell_type": "code",
   "execution_count": 22,
   "id": "10f64727",
   "metadata": {},
   "outputs": [
    {
     "data": {
      "text/plain": [
       "0     3.0\n",
       "1     4.0\n",
       "2     4.0\n",
       "3    10.5\n",
       "4     3.5\n",
       "5     2.5\n",
       "Name: Revenue, dtype: float64"
      ]
     },
     "execution_count": 22,
     "metadata": {},
     "output_type": "execute_result"
    }
   ],
   "source": [
    "data['Revenue'] = data['Quantity'] * data['UnitPrice']#a\n",
    "data['Revenue']"
   ]
  },
  {
   "cell_type": "code",
   "execution_count": 24,
   "id": "2ca38a59",
   "metadata": {},
   "outputs": [
    {
     "data": {
      "text/plain": [
       "0     3.0\n",
       "1     4.0\n",
       "2     4.0\n",
       "3    10.5\n",
       "4     3.5\n",
       "5     2.5\n",
       "Name: Revenue, dtype: float64"
      ]
     },
     "execution_count": 24,
     "metadata": {},
     "output_type": "execute_result"
    }
   ],
   "source": [
    "data['Revenue'] = data.apply(lambda x:x['Quantity']*x['UnitPrice'],axis=1)#b\n",
    "data['Revenue']"
   ]
  },
  {
   "cell_type": "code",
   "execution_count": 25,
   "id": "a21c6fc5",
   "metadata": {},
   "outputs": [
    {
     "ename": "KeyError",
     "evalue": "'Quantity'",
     "output_type": "error",
     "traceback": [
      "\u001b[1;31m---------------------------------------------------------------------------\u001b[0m",
      "\u001b[1;31mKeyError\u001b[0m                                  Traceback (most recent call last)",
      "Cell \u001b[1;32mIn[25], line 1\u001b[0m\n\u001b[1;32m----> 1\u001b[0m data[\u001b[38;5;124m'\u001b[39m\u001b[38;5;124mRevenue\u001b[39m\u001b[38;5;124m'\u001b[39m] \u001b[38;5;241m=\u001b[39m data\u001b[38;5;241m.\u001b[39mapply(\u001b[38;5;28;01mlambda\u001b[39;00m x:x[\u001b[38;5;124m'\u001b[39m\u001b[38;5;124mQuantity\u001b[39m\u001b[38;5;124m'\u001b[39m]\u001b[38;5;241m*\u001b[39mx[\u001b[38;5;124m'\u001b[39m\u001b[38;5;124mUnitPrice\u001b[39m\u001b[38;5;124m'\u001b[39m],axis\u001b[38;5;241m=\u001b[39m\u001b[38;5;241m0\u001b[39m)\n",
      "File \u001b[1;32m~\\anaconda3\\Lib\\site-packages\\pandas\\core\\frame.py:9423\u001b[0m, in \u001b[0;36mDataFrame.apply\u001b[1;34m(self, func, axis, raw, result_type, args, **kwargs)\u001b[0m\n\u001b[0;32m   9412\u001b[0m \u001b[38;5;28;01mfrom\u001b[39;00m \u001b[38;5;21;01mpandas\u001b[39;00m\u001b[38;5;21;01m.\u001b[39;00m\u001b[38;5;21;01mcore\u001b[39;00m\u001b[38;5;21;01m.\u001b[39;00m\u001b[38;5;21;01mapply\u001b[39;00m \u001b[38;5;28;01mimport\u001b[39;00m frame_apply\n\u001b[0;32m   9414\u001b[0m op \u001b[38;5;241m=\u001b[39m frame_apply(\n\u001b[0;32m   9415\u001b[0m     \u001b[38;5;28mself\u001b[39m,\n\u001b[0;32m   9416\u001b[0m     func\u001b[38;5;241m=\u001b[39mfunc,\n\u001b[1;32m   (...)\u001b[0m\n\u001b[0;32m   9421\u001b[0m     kwargs\u001b[38;5;241m=\u001b[39mkwargs,\n\u001b[0;32m   9422\u001b[0m )\n\u001b[1;32m-> 9423\u001b[0m \u001b[38;5;28;01mreturn\u001b[39;00m op\u001b[38;5;241m.\u001b[39mapply()\u001b[38;5;241m.\u001b[39m__finalize__(\u001b[38;5;28mself\u001b[39m, method\u001b[38;5;241m=\u001b[39m\u001b[38;5;124m\"\u001b[39m\u001b[38;5;124mapply\u001b[39m\u001b[38;5;124m\"\u001b[39m)\n",
      "File \u001b[1;32m~\\anaconda3\\Lib\\site-packages\\pandas\\core\\apply.py:678\u001b[0m, in \u001b[0;36mFrameApply.apply\u001b[1;34m(self)\u001b[0m\n\u001b[0;32m    675\u001b[0m \u001b[38;5;28;01melif\u001b[39;00m \u001b[38;5;28mself\u001b[39m\u001b[38;5;241m.\u001b[39mraw:\n\u001b[0;32m    676\u001b[0m     \u001b[38;5;28;01mreturn\u001b[39;00m \u001b[38;5;28mself\u001b[39m\u001b[38;5;241m.\u001b[39mapply_raw()\n\u001b[1;32m--> 678\u001b[0m \u001b[38;5;28;01mreturn\u001b[39;00m \u001b[38;5;28mself\u001b[39m\u001b[38;5;241m.\u001b[39mapply_standard()\n",
      "File \u001b[1;32m~\\anaconda3\\Lib\\site-packages\\pandas\\core\\apply.py:798\u001b[0m, in \u001b[0;36mFrameApply.apply_standard\u001b[1;34m(self)\u001b[0m\n\u001b[0;32m    797\u001b[0m \u001b[38;5;28;01mdef\u001b[39;00m \u001b[38;5;21mapply_standard\u001b[39m(\u001b[38;5;28mself\u001b[39m):\n\u001b[1;32m--> 798\u001b[0m     results, res_index \u001b[38;5;241m=\u001b[39m \u001b[38;5;28mself\u001b[39m\u001b[38;5;241m.\u001b[39mapply_series_generator()\n\u001b[0;32m    800\u001b[0m     \u001b[38;5;66;03m# wrap results\u001b[39;00m\n\u001b[0;32m    801\u001b[0m     \u001b[38;5;28;01mreturn\u001b[39;00m \u001b[38;5;28mself\u001b[39m\u001b[38;5;241m.\u001b[39mwrap_results(results, res_index)\n",
      "File \u001b[1;32m~\\anaconda3\\Lib\\site-packages\\pandas\\core\\apply.py:814\u001b[0m, in \u001b[0;36mFrameApply.apply_series_generator\u001b[1;34m(self)\u001b[0m\n\u001b[0;32m    811\u001b[0m \u001b[38;5;28;01mwith\u001b[39;00m option_context(\u001b[38;5;124m\"\u001b[39m\u001b[38;5;124mmode.chained_assignment\u001b[39m\u001b[38;5;124m\"\u001b[39m, \u001b[38;5;28;01mNone\u001b[39;00m):\n\u001b[0;32m    812\u001b[0m     \u001b[38;5;28;01mfor\u001b[39;00m i, v \u001b[38;5;129;01min\u001b[39;00m \u001b[38;5;28menumerate\u001b[39m(series_gen):\n\u001b[0;32m    813\u001b[0m         \u001b[38;5;66;03m# ignore SettingWithCopy here in case the user mutates\u001b[39;00m\n\u001b[1;32m--> 814\u001b[0m         results[i] \u001b[38;5;241m=\u001b[39m \u001b[38;5;28mself\u001b[39m\u001b[38;5;241m.\u001b[39mf(v)\n\u001b[0;32m    815\u001b[0m         \u001b[38;5;28;01mif\u001b[39;00m \u001b[38;5;28misinstance\u001b[39m(results[i], ABCSeries):\n\u001b[0;32m    816\u001b[0m             \u001b[38;5;66;03m# If we have a view on v, we need to make a copy because\u001b[39;00m\n\u001b[0;32m    817\u001b[0m             \u001b[38;5;66;03m#  series_generator will swap out the underlying data\u001b[39;00m\n\u001b[0;32m    818\u001b[0m             results[i] \u001b[38;5;241m=\u001b[39m results[i]\u001b[38;5;241m.\u001b[39mcopy(deep\u001b[38;5;241m=\u001b[39m\u001b[38;5;28;01mFalse\u001b[39;00m)\n",
      "Cell \u001b[1;32mIn[25], line 1\u001b[0m, in \u001b[0;36m<lambda>\u001b[1;34m(x)\u001b[0m\n\u001b[1;32m----> 1\u001b[0m data[\u001b[38;5;124m'\u001b[39m\u001b[38;5;124mRevenue\u001b[39m\u001b[38;5;124m'\u001b[39m] \u001b[38;5;241m=\u001b[39m data\u001b[38;5;241m.\u001b[39mapply(\u001b[38;5;28;01mlambda\u001b[39;00m x:x[\u001b[38;5;124m'\u001b[39m\u001b[38;5;124mQuantity\u001b[39m\u001b[38;5;124m'\u001b[39m]\u001b[38;5;241m*\u001b[39mx[\u001b[38;5;124m'\u001b[39m\u001b[38;5;124mUnitPrice\u001b[39m\u001b[38;5;124m'\u001b[39m],axis\u001b[38;5;241m=\u001b[39m\u001b[38;5;241m0\u001b[39m)\n",
      "File \u001b[1;32m~\\anaconda3\\Lib\\site-packages\\pandas\\core\\series.py:1007\u001b[0m, in \u001b[0;36mSeries.__getitem__\u001b[1;34m(self, key)\u001b[0m\n\u001b[0;32m   1004\u001b[0m     \u001b[38;5;28;01mreturn\u001b[39;00m \u001b[38;5;28mself\u001b[39m\u001b[38;5;241m.\u001b[39m_values[key]\n\u001b[0;32m   1006\u001b[0m \u001b[38;5;28;01melif\u001b[39;00m key_is_scalar:\n\u001b[1;32m-> 1007\u001b[0m     \u001b[38;5;28;01mreturn\u001b[39;00m \u001b[38;5;28mself\u001b[39m\u001b[38;5;241m.\u001b[39m_get_value(key)\n\u001b[0;32m   1009\u001b[0m \u001b[38;5;28;01mif\u001b[39;00m is_hashable(key):\n\u001b[0;32m   1010\u001b[0m     \u001b[38;5;66;03m# Otherwise index.get_value will raise InvalidIndexError\u001b[39;00m\n\u001b[0;32m   1011\u001b[0m     \u001b[38;5;28;01mtry\u001b[39;00m:\n\u001b[0;32m   1012\u001b[0m         \u001b[38;5;66;03m# For labels that don't resolve as scalars like tuples and frozensets\u001b[39;00m\n",
      "File \u001b[1;32m~\\anaconda3\\Lib\\site-packages\\pandas\\core\\series.py:1116\u001b[0m, in \u001b[0;36mSeries._get_value\u001b[1;34m(self, label, takeable)\u001b[0m\n\u001b[0;32m   1113\u001b[0m     \u001b[38;5;28;01mreturn\u001b[39;00m \u001b[38;5;28mself\u001b[39m\u001b[38;5;241m.\u001b[39m_values[label]\n\u001b[0;32m   1115\u001b[0m \u001b[38;5;66;03m# Similar to Index.get_value, but we do not fall back to positional\u001b[39;00m\n\u001b[1;32m-> 1116\u001b[0m loc \u001b[38;5;241m=\u001b[39m \u001b[38;5;28mself\u001b[39m\u001b[38;5;241m.\u001b[39mindex\u001b[38;5;241m.\u001b[39mget_loc(label)\n\u001b[0;32m   1118\u001b[0m \u001b[38;5;28;01mif\u001b[39;00m is_integer(loc):\n\u001b[0;32m   1119\u001b[0m     \u001b[38;5;28;01mreturn\u001b[39;00m \u001b[38;5;28mself\u001b[39m\u001b[38;5;241m.\u001b[39m_values[loc]\n",
      "File \u001b[1;32m~\\anaconda3\\Lib\\site-packages\\pandas\\core\\indexes\\range.py:349\u001b[0m, in \u001b[0;36mRangeIndex.get_loc\u001b[1;34m(self, key)\u001b[0m\n\u001b[0;32m    347\u001b[0m         \u001b[38;5;28;01mraise\u001b[39;00m \u001b[38;5;167;01mKeyError\u001b[39;00m(key) \u001b[38;5;28;01mfrom\u001b[39;00m \u001b[38;5;21;01merr\u001b[39;00m\n\u001b[0;32m    348\u001b[0m \u001b[38;5;28;01mif\u001b[39;00m \u001b[38;5;28misinstance\u001b[39m(key, Hashable):\n\u001b[1;32m--> 349\u001b[0m     \u001b[38;5;28;01mraise\u001b[39;00m \u001b[38;5;167;01mKeyError\u001b[39;00m(key)\n\u001b[0;32m    350\u001b[0m \u001b[38;5;28mself\u001b[39m\u001b[38;5;241m.\u001b[39m_check_indexing_error(key)\n\u001b[0;32m    351\u001b[0m \u001b[38;5;28;01mraise\u001b[39;00m \u001b[38;5;167;01mKeyError\u001b[39;00m(key)\n",
      "\u001b[1;31mKeyError\u001b[0m: 'Quantity'"
     ]
    }
   ],
   "source": [
    "data['Revenue'] = data.apply(lambda x:x['Quantity']*x['UnitPrice'],axis=0)#c"
   ]
  },
  {
   "cell_type": "code",
   "execution_count": 27,
   "id": "0e463d62",
   "metadata": {},
   "outputs": [
    {
     "data": {
      "text/plain": [
       "0     1.000000\n",
       "1     4.000000\n",
       "2     4.000000\n",
       "3    46.765372\n",
       "4     1.000000\n",
       "5     1.000000\n",
       "Name: Revenue, dtype: float64"
      ]
     },
     "execution_count": 27,
     "metadata": {},
     "output_type": "execute_result"
    }
   ],
   "source": [
    "data['Revenue'] = data['Quantity'] ** data['UnitPrice']#d\n",
    "data['Revenue']"
   ]
  },
  {
   "cell_type": "markdown",
   "id": "a5c724d7",
   "metadata": {},
   "source": [
    "### 17. What is the syntax to find Categorical wise revenue\n",
    "\n",
    "* a) df.groupby('Category')['Revenue'].mean()\n",
    "* b) df.groupby('Category')['Revenue'].sum()\n",
    "* c) df.groupby('Category')['Revenue'].agg(np.sum)\n",
    "* d) df.groupby('Category')['Revenue'].agg('sum')"
   ]
  },
  {
   "cell_type": "code",
   "execution_count": 28,
   "id": "f1c55e43",
   "metadata": {},
   "outputs": [
    {
     "data": {
      "text/plain": [
       "Category\n",
       "Beverage    13.191343\n",
       "Food         2.500000\n",
       "Name: Revenue, dtype: float64"
      ]
     },
     "execution_count": 28,
     "metadata": {},
     "output_type": "execute_result"
    }
   ],
   "source": [
    "data.groupby('Category')['Revenue'].mean()\n",
    "#a"
   ]
  },
  {
   "cell_type": "code",
   "execution_count": 29,
   "id": "6bb40179",
   "metadata": {},
   "outputs": [
    {
     "data": {
      "text/plain": [
       "Category\n",
       "Beverage    52.765372\n",
       "Food         5.000000\n",
       "Name: Revenue, dtype: float64"
      ]
     },
     "execution_count": 29,
     "metadata": {},
     "output_type": "execute_result"
    }
   ],
   "source": [
    "data.groupby('Category')['Revenue'].sum()\n",
    "#a"
   ]
  },
  {
   "cell_type": "code",
   "execution_count": 31,
   "id": "35c24706",
   "metadata": {},
   "outputs": [
    {
     "data": {
      "text/plain": [
       "Category\n",
       "Beverage    52.765372\n",
       "Food         5.000000\n",
       "Name: Revenue, dtype: float64"
      ]
     },
     "execution_count": 31,
     "metadata": {},
     "output_type": "execute_result"
    }
   ],
   "source": [
    "data.groupby('Category')['Revenue'].agg(np.sum)#c"
   ]
  },
  {
   "cell_type": "markdown",
   "id": "bb3e3e29",
   "metadata": {},
   "source": [
    "### 18 ) to find the average quantity wrt to date and product,what is the correct syntax ?(\n",
    "\n",
    "* df.groupby(['Date','Product'])['Quantity'].avg()\n",
    "* df.groupby(['Date','Product'])['Quantity'].mean()\n",
    "* df.groupby(['Product','Date'])['Quantity'].avg()\n",
    "* df.groupby(['Product','Mean'])['Quanity'].mean()"
   ]
  },
  {
   "cell_type": "code",
   "execution_count": 34,
   "id": "1cd91cf0",
   "metadata": {},
   "outputs": [
    {
     "data": {
      "text/plain": [
       "date        Product   \n",
       "2024-01-01  Cappuccino    1.0\n",
       "2024-01-02  Croissant     2.0\n",
       "2024-01-03  Espresso      2.0\n",
       "2024-01-10  Latte         3.0\n",
       "2024-01-8   Muffin        1.0\n",
       "2024-01-9   Lattle        1.0\n",
       "Name: Quantity, dtype: float64"
      ]
     },
     "execution_count": 34,
     "metadata": {},
     "output_type": "execute_result"
    }
   ],
   "source": [
    "data.groupby(['date', 'Product'])['Quantity'].mean()"
   ]
  },
  {
   "cell_type": "markdown",
   "id": "6cee5a1f",
   "metadata": {},
   "source": [
    "##### Answer\n",
    "b.)df.groupby(['Date','Product'])['Quantity'].mean()"
   ]
  },
  {
   "cell_type": "markdown",
   "id": "63ae22d9",
   "metadata": {},
   "source": [
    "### 19.Categorical wise revenue for Bevarage and Food respectively are\n",
    "\n",
    "* a) 28.5 , 6.0\n",
    "* b) 6.0 , 27.5\n",
    "* c) 28.5 ,7.0\n",
    "* d) 7.0 , 28.5"
   ]
  },
  {
   "cell_type": "code",
   "execution_count": 35,
   "id": "b25758a3",
   "metadata": {},
   "outputs": [
    {
     "name": "stdout",
     "output_type": "stream",
     "text": [
      "52.76537180435969 5.0\n"
     ]
    }
   ],
   "source": [
    "result = data.groupby('Category')['Revenue'].sum()\n",
    "\n",
    "print(result['Beverage'], result['Food'])"
   ]
  },
  {
   "cell_type": "markdown",
   "id": "ac5474cf",
   "metadata": {},
   "source": [
    "### 20. Using transform, What is the syntax to create a column which has a unitprice difference wrt its category mean\n",
    "\n",
    "* a) df.groupby('Category')['UnitPrice'].transform(lambda x: x - x.mean())\n",
    "* b) df.groupby('Category')('UnitPrice').transform(lambda x: x - x.mean())\n",
    "* c) df.groupby['Category']['UnitPrice'].transform(lambda x: x - x.mean())\n",
    "* d) df.groupby(['Category','UnitPrice']).transform(lambda x: x - x.mean())"
   ]
  },
  {
   "cell_type": "code",
   "execution_count": 37,
   "id": "95568848",
   "metadata": {},
   "outputs": [
    {
     "data": {
      "text/plain": [
       "0    0.00\n",
       "1   -0.25\n",
       "2   -1.00\n",
       "3    0.50\n",
       "4    0.50\n",
       "5    0.25\n",
       "Name: UnitPrice, dtype: float64"
      ]
     },
     "execution_count": 37,
     "metadata": {},
     "output_type": "execute_result"
    }
   ],
   "source": [
    "data.groupby('Category')['UnitPrice'].transform(lambda x: x - x.mean())"
   ]
  },
  {
   "cell_type": "markdown",
   "id": "c86bb528",
   "metadata": {},
   "source": [
    "##### Answer\n",
    "a) df.groupby('Category')['UnitPrice'].transform(lambda x: x - x.mean())"
   ]
  },
  {
   "cell_type": "markdown",
   "id": "3658b836",
   "metadata": {},
   "source": [
    "### 21. What is the correct syntax to get data wrt 'Monday'\n",
    "\n",
    "* a) df.groupby(df.Date.dt.day_name()).get_group('Monday')\n",
    "* b) df.groupby(df.Date.dt.dayname()).get_group('Monday')\n",
    "* c) df.groupby(df.Date.dt.dayofweekname()).get_group('Monday')\n",
    "* d) df.groupby(df.Date.dt.day_of_weekname()).get_group('Monday')"
   ]
  },
  {
   "cell_type": "markdown",
   "id": "44d03028",
   "metadata": {},
   "source": [
    "### 22. Which of the following statements is / are true\n",
    "\n",
    "* a) apply() can be applied on rows\n",
    "* b) Aplly function can't be applied on rows\n",
    "* c) Apply applies the function on the entire series at a time\n",
    "* d) Apply applies the function one cell at a time\n",
    "\n",
    "##### Answer\n",
    "c) Apply applies the function on the entire series at a time"
   ]
  },
  {
   "cell_type": "markdown",
   "id": "41f5e6dc",
   "metadata": {},
   "source": [
    "### 23. Which of the following statements is / are true\n",
    "\n",
    "* a) Map applies the functionality on entire DataFrame\n",
    "* b) Applymap applies the functionality on series be it ro or a column\n",
    "* c) Apply and Map are vectorized applications\n",
    "* d) None of the above\n",
    "\n",
    "##### Answer\n",
    "c) Apply and Map are vectorized applications"
   ]
  },
  {
   "cell_type": "code",
   "execution_count": 43,
   "id": "637ff42e",
   "metadata": {},
   "outputs": [
    {
     "data": {
      "text/html": [
       "<div>\n",
       "<style scoped>\n",
       "    .dataframe tbody tr th:only-of-type {\n",
       "        vertical-align: middle;\n",
       "    }\n",
       "\n",
       "    .dataframe tbody tr th {\n",
       "        vertical-align: top;\n",
       "    }\n",
       "\n",
       "    .dataframe thead th {\n",
       "        text-align: right;\n",
       "    }\n",
       "</style>\n",
       "<table border=\"1\" class=\"dataframe\">\n",
       "  <thead>\n",
       "    <tr style=\"text-align: right;\">\n",
       "      <th></th>\n",
       "      <th>Date</th>\n",
       "      <th>Region</th>\n",
       "      <th>Salesperson</th>\n",
       "      <th>Product</th>\n",
       "      <th>Quantity</th>\n",
       "      <th>Untprice</th>\n",
       "    </tr>\n",
       "  </thead>\n",
       "  <tbody>\n",
       "    <tr>\n",
       "      <th>0</th>\n",
       "      <td>2024-01-10</td>\n",
       "      <td>North</td>\n",
       "      <td>Ajay</td>\n",
       "      <td>Notebook</td>\n",
       "      <td>5</td>\n",
       "      <td>12</td>\n",
       "    </tr>\n",
       "    <tr>\n",
       "      <th>1</th>\n",
       "      <td>2024-01-11</td>\n",
       "      <td>South</td>\n",
       "      <td>Balu</td>\n",
       "      <td>Pen</td>\n",
       "      <td>10</td>\n",
       "      <td>3</td>\n",
       "    </tr>\n",
       "    <tr>\n",
       "      <th>2</th>\n",
       "      <td>2024-01-10</td>\n",
       "      <td>East</td>\n",
       "      <td>Chirag</td>\n",
       "      <td>Notebook</td>\n",
       "      <td>7</td>\n",
       "      <td>12</td>\n",
       "    </tr>\n",
       "    <tr>\n",
       "      <th>3</th>\n",
       "      <td>2024-01-12</td>\n",
       "      <td>West</td>\n",
       "      <td>Ajay</td>\n",
       "      <td>Pen</td>\n",
       "      <td>15</td>\n",
       "      <td>3</td>\n",
       "    </tr>\n",
       "    <tr>\n",
       "      <th>4</th>\n",
       "      <td>2024-01-11</td>\n",
       "      <td>North</td>\n",
       "      <td>Balu</td>\n",
       "      <td>Binder</td>\n",
       "      <td>20</td>\n",
       "      <td>5</td>\n",
       "    </tr>\n",
       "    <tr>\n",
       "      <th>5</th>\n",
       "      <td>2024-01-12</td>\n",
       "      <td>East</td>\n",
       "      <td>Chirag</td>\n",
       "      <td>Binder</td>\n",
       "      <td>10</td>\n",
       "      <td>5</td>\n",
       "    </tr>\n",
       "  </tbody>\n",
       "</table>\n",
       "</div>"
      ],
      "text/plain": [
       "         Date Region Salesperson   Product  Quantity  Untprice\n",
       "0  2024-01-10  North        Ajay  Notebook         5        12\n",
       "1  2024-01-11  South        Balu       Pen        10         3\n",
       "2  2024-01-10   East      Chirag  Notebook         7        12\n",
       "3  2024-01-12   West        Ajay       Pen        15         3\n",
       "4  2024-01-11  North        Balu    Binder        20         5\n",
       "5  2024-01-12   East      Chirag    Binder        10         5"
      ]
     },
     "execution_count": 43,
     "metadata": {},
     "output_type": "execute_result"
    }
   ],
   "source": [
    "df1=pd.DataFrame({'Date':['2024-01-10','2024-01-11','2024-01-10','2024-01-12','2024-01-11','2024-01-12'],\n",
    "                 'Region':['North','South','East','West','North','East'],\n",
    "                 'Salesperson':['Ajay','Balu','Chirag','Ajay','Balu','Chirag'],\n",
    "                 'Product':['Notebook','Pen','Notebook','Pen','Binder','Binder'],\n",
    "                 'Quantity':[5,10,7,15,20,10],\n",
    "                 'Untprice':[12,3,12,3,5,5]})\n",
    "df1"
   ]
  },
  {
   "cell_type": "markdown",
   "id": "7ed6cca7",
   "metadata": {},
   "source": [
    "### 24. create a pivot table with index ass Nort and South and Columns as Product Where values are sum of Quantities Sold\n",
    "\n",
    "* a) df1[df1['Region'].isin(['North', 'South'])].pivot_table(index='Region', columns='Product', values='Quantity', aggfunc='sum')\n",
    "* b) df1[df1['Region'].isin(['North', 'South'])].pivot_table(index='Product', columns='Product', values='Quantity', aggfunc='sum')\n",
    "* c) df1[(df1['Region']=='North')|(df1['Region']=='South')].pivot_table(index='Product', columns='Product', values='Quantity', aggfunc='sum')\n",
    "* d) df1[(df1['Region']=='North')|(df1['Region']=='South')].pivot_table(index='Product', columns='Product', values='Quantity', aggfunc='sum')"
   ]
  },
  {
   "cell_type": "code",
   "execution_count": 44,
   "id": "6844781f",
   "metadata": {},
   "outputs": [
    {
     "data": {
      "text/html": [
       "<div>\n",
       "<style scoped>\n",
       "    .dataframe tbody tr th:only-of-type {\n",
       "        vertical-align: middle;\n",
       "    }\n",
       "\n",
       "    .dataframe tbody tr th {\n",
       "        vertical-align: top;\n",
       "    }\n",
       "\n",
       "    .dataframe thead th {\n",
       "        text-align: right;\n",
       "    }\n",
       "</style>\n",
       "<table border=\"1\" class=\"dataframe\">\n",
       "  <thead>\n",
       "    <tr style=\"text-align: right;\">\n",
       "      <th>Product</th>\n",
       "      <th>Binder</th>\n",
       "      <th>Notebook</th>\n",
       "      <th>Pen</th>\n",
       "    </tr>\n",
       "    <tr>\n",
       "      <th>Region</th>\n",
       "      <th></th>\n",
       "      <th></th>\n",
       "      <th></th>\n",
       "    </tr>\n",
       "  </thead>\n",
       "  <tbody>\n",
       "    <tr>\n",
       "      <th>North</th>\n",
       "      <td>20.0</td>\n",
       "      <td>5.0</td>\n",
       "      <td>NaN</td>\n",
       "    </tr>\n",
       "    <tr>\n",
       "      <th>South</th>\n",
       "      <td>NaN</td>\n",
       "      <td>NaN</td>\n",
       "      <td>10.0</td>\n",
       "    </tr>\n",
       "  </tbody>\n",
       "</table>\n",
       "</div>"
      ],
      "text/plain": [
       "Product  Binder  Notebook   Pen\n",
       "Region                         \n",
       "North      20.0       5.0   NaN\n",
       "South       NaN       NaN  10.0"
      ]
     },
     "execution_count": 44,
     "metadata": {},
     "output_type": "execute_result"
    }
   ],
   "source": [
    "df1[df1['Region'].isin(['North','South'])].pivot_table(index='Region',columns='Product',values='Quantity',aggfunc='sum')"
   ]
  },
  {
   "cell_type": "markdown",
   "id": "a47b12c6",
   "metadata": {},
   "source": [
    "##### Answer\n",
    "a.)df1[df1['Region'].isin(['North','South'])].pivot_table(index='Region',columns='Product',values='Quantity',aggfunc='sum')"
   ]
  },
  {
   "cell_type": "markdown",
   "id": "3dd2fa24",
   "metadata": {},
   "source": [
    "### 25. Which of the following statements is/are True\n",
    "\n",
    "* a) .iloc method includes the last element when used for slicing\n",
    "* b) .loc method doesn't includes the last element when used for slicing\n",
    "* c) .loc method includes the last element and pass default integer index of rows when slicing\n",
    "* d) None of above\n",
    "\n",
    "##### Answer\n",
    "c)"
   ]
  },
  {
   "cell_type": "markdown",
   "id": "934764c6",
   "metadata": {},
   "source": [
    "### 26. Using a pivot table is it possible to create a multi-index dataframe ,if so what is the syntax to have a multi index of date and region, with total product sold as values\n",
    "\n",
    "* a) No we can't create a multiindex table using pivot table\n",
    "* b) df1.pivot_table(index = ['Date', 'Region'], columns = 'Product', values = 'Quantity', aggfunc = 'sum')\n",
    "* c) df1.pivot_table(index = ['Date', 'Region'], columns = 'Product', values = 'Quantity', agg = 'sum')\n",
    "* d) None of these"
   ]
  },
  {
   "cell_type": "code",
   "execution_count": 45,
   "id": "61583d91",
   "metadata": {},
   "outputs": [
    {
     "data": {
      "text/html": [
       "<div>\n",
       "<style scoped>\n",
       "    .dataframe tbody tr th:only-of-type {\n",
       "        vertical-align: middle;\n",
       "    }\n",
       "\n",
       "    .dataframe tbody tr th {\n",
       "        vertical-align: top;\n",
       "    }\n",
       "\n",
       "    .dataframe thead th {\n",
       "        text-align: right;\n",
       "    }\n",
       "</style>\n",
       "<table border=\"1\" class=\"dataframe\">\n",
       "  <thead>\n",
       "    <tr style=\"text-align: right;\">\n",
       "      <th></th>\n",
       "      <th>Product</th>\n",
       "      <th>Binder</th>\n",
       "      <th>Notebook</th>\n",
       "      <th>Pen</th>\n",
       "    </tr>\n",
       "    <tr>\n",
       "      <th>Date</th>\n",
       "      <th>Region</th>\n",
       "      <th></th>\n",
       "      <th></th>\n",
       "      <th></th>\n",
       "    </tr>\n",
       "  </thead>\n",
       "  <tbody>\n",
       "    <tr>\n",
       "      <th rowspan=\"2\" valign=\"top\">2024-01-10</th>\n",
       "      <th>East</th>\n",
       "      <td>NaN</td>\n",
       "      <td>7.0</td>\n",
       "      <td>NaN</td>\n",
       "    </tr>\n",
       "    <tr>\n",
       "      <th>North</th>\n",
       "      <td>NaN</td>\n",
       "      <td>5.0</td>\n",
       "      <td>NaN</td>\n",
       "    </tr>\n",
       "    <tr>\n",
       "      <th rowspan=\"2\" valign=\"top\">2024-01-11</th>\n",
       "      <th>North</th>\n",
       "      <td>20.0</td>\n",
       "      <td>NaN</td>\n",
       "      <td>NaN</td>\n",
       "    </tr>\n",
       "    <tr>\n",
       "      <th>South</th>\n",
       "      <td>NaN</td>\n",
       "      <td>NaN</td>\n",
       "      <td>10.0</td>\n",
       "    </tr>\n",
       "    <tr>\n",
       "      <th rowspan=\"2\" valign=\"top\">2024-01-12</th>\n",
       "      <th>East</th>\n",
       "      <td>10.0</td>\n",
       "      <td>NaN</td>\n",
       "      <td>NaN</td>\n",
       "    </tr>\n",
       "    <tr>\n",
       "      <th>West</th>\n",
       "      <td>NaN</td>\n",
       "      <td>NaN</td>\n",
       "      <td>15.0</td>\n",
       "    </tr>\n",
       "  </tbody>\n",
       "</table>\n",
       "</div>"
      ],
      "text/plain": [
       "Product            Binder  Notebook   Pen\n",
       "Date       Region                        \n",
       "2024-01-10 East       NaN       7.0   NaN\n",
       "           North      NaN       5.0   NaN\n",
       "2024-01-11 North     20.0       NaN   NaN\n",
       "           South      NaN       NaN  10.0\n",
       "2024-01-12 East      10.0       NaN   NaN\n",
       "           West       NaN       NaN  15.0"
      ]
     },
     "execution_count": 45,
     "metadata": {},
     "output_type": "execute_result"
    }
   ],
   "source": [
    "df1.pivot_table(index = ['Date', 'Region'], columns = 'Product', values = 'Quantity', aggfunc = 'sum')"
   ]
  },
  {
   "cell_type": "markdown",
   "id": "13d8922d",
   "metadata": {},
   "source": [
    "### 27. What does the margins parameter in pivot_table() allows to include in the pivot table\n",
    "\n",
    "* a) Additional margins and subtotals for rows and columns\n",
    "* b) A list of column names to exclude from the pivot table\n",
    "* c) The number of rows and columns to skip at the beginning of the pivot table\n",
    "* d) The maximum number of rows and columns to display in the pivot table\n",
    "\n",
    "Answer\n",
    "a)"
   ]
  },
  {
   "cell_type": "code",
   "execution_count": 46,
   "id": "dbe574a7",
   "metadata": {},
   "outputs": [
    {
     "data": {
      "text/html": [
       "<div>\n",
       "<style scoped>\n",
       "    .dataframe tbody tr th:only-of-type {\n",
       "        vertical-align: middle;\n",
       "    }\n",
       "\n",
       "    .dataframe tbody tr th {\n",
       "        vertical-align: top;\n",
       "    }\n",
       "\n",
       "    .dataframe thead th {\n",
       "        text-align: right;\n",
       "    }\n",
       "</style>\n",
       "<table border=\"1\" class=\"dataframe\">\n",
       "  <thead>\n",
       "    <tr style=\"text-align: right;\">\n",
       "      <th></th>\n",
       "      <th>Fruits</th>\n",
       "      <th>Price</th>\n",
       "    </tr>\n",
       "  </thead>\n",
       "  <tbody>\n",
       "    <tr>\n",
       "      <th>0</th>\n",
       "      <td>apple</td>\n",
       "      <td></td>\n",
       "    </tr>\n",
       "    <tr>\n",
       "      <th>1</th>\n",
       "      <td>banana</td>\n",
       "      <td></td>\n",
       "    </tr>\n",
       "    <tr>\n",
       "      <th>2</th>\n",
       "      <td>apple</td>\n",
       "      <td>205</td>\n",
       "    </tr>\n",
       "    <tr>\n",
       "      <th>3</th>\n",
       "      <td>apple</td>\n",
       "      <td>200</td>\n",
       "    </tr>\n",
       "    <tr>\n",
       "      <th>4</th>\n",
       "      <td>banana</td>\n",
       "      <td>40</td>\n",
       "    </tr>\n",
       "    <tr>\n",
       "      <th>5</th>\n",
       "      <td>apple</td>\n",
       "      <td>210</td>\n",
       "    </tr>\n",
       "    <tr>\n",
       "      <th>6</th>\n",
       "      <td>kiwi</td>\n",
       "      <td>300</td>\n",
       "    </tr>\n",
       "    <tr>\n",
       "      <th>7</th>\n",
       "      <td>kiwi</td>\n",
       "      <td>320</td>\n",
       "    </tr>\n",
       "    <tr>\n",
       "      <th>8</th>\n",
       "      <td>banana</td>\n",
       "      <td></td>\n",
       "    </tr>\n",
       "    <tr>\n",
       "      <th>9</th>\n",
       "      <td>apple</td>\n",
       "      <td>180</td>\n",
       "    </tr>\n",
       "    <tr>\n",
       "      <th>10</th>\n",
       "      <td>kiwi</td>\n",
       "      <td>350</td>\n",
       "    </tr>\n",
       "    <tr>\n",
       "      <th>11</th>\n",
       "      <td>apple</td>\n",
       "      <td></td>\n",
       "    </tr>\n",
       "    <tr>\n",
       "      <th>12</th>\n",
       "      <td>banana</td>\n",
       "      <td>35</td>\n",
       "    </tr>\n",
       "    <tr>\n",
       "      <th>13</th>\n",
       "      <td>grape</td>\n",
       "      <td></td>\n",
       "    </tr>\n",
       "    <tr>\n",
       "      <th>14</th>\n",
       "      <td>apple</td>\n",
       "      <td>215</td>\n",
       "    </tr>\n",
       "    <tr>\n",
       "      <th>15</th>\n",
       "      <td>banana</td>\n",
       "      <td>40</td>\n",
       "    </tr>\n",
       "    <tr>\n",
       "      <th>16</th>\n",
       "      <td>apple</td>\n",
       "      <td></td>\n",
       "    </tr>\n",
       "    <tr>\n",
       "      <th>17</th>\n",
       "      <td>apple</td>\n",
       "      <td></td>\n",
       "    </tr>\n",
       "    <tr>\n",
       "      <th>18</th>\n",
       "      <td>grape</td>\n",
       "      <td></td>\n",
       "    </tr>\n",
       "  </tbody>\n",
       "</table>\n",
       "</div>"
      ],
      "text/plain": [
       "    Fruits Price\n",
       "0    apple      \n",
       "1   banana      \n",
       "2    apple   205\n",
       "3    apple   200\n",
       "4   banana    40\n",
       "5    apple   210\n",
       "6     kiwi   300\n",
       "7     kiwi   320\n",
       "8   banana      \n",
       "9    apple   180\n",
       "10    kiwi   350\n",
       "11   apple      \n",
       "12  banana    35\n",
       "13   grape      \n",
       "14   apple   215\n",
       "15  banana    40\n",
       "16   apple      \n",
       "17   apple      \n",
       "18   grape      "
      ]
     },
     "execution_count": 46,
     "metadata": {},
     "output_type": "execute_result"
    }
   ],
   "source": [
    "data = {\n",
    "    'Fruits': ['apple', 'banana', 'apple', 'apple', 'banana', 'apple', 'kiwi', 'kiwi', 'banana', 'apple', 'kiwi', 'apple', 'banana', 'grape', 'apple', 'banana', 'apple', 'apple', 'grape'],\n",
    "    'Price': ['', '', 205, 200, 40, 210, 300, 320, '', 180, 350, '', 35, '', 215, 40, '', '', '']\n",
    "}\n",
    "\n",
    "df2 = pd.DataFrame(data)\n",
    "\n",
    "df2"
   ]
  },
  {
   "cell_type": "markdown",
   "id": "c93017e1",
   "metadata": {},
   "source": [
    "### 28. If we choose to imputing missing values in Price Col by Chaining ffill() and bfill() while limiting the imputation to 1,1 respectively , how many missing values will be left post imputation\n",
    "\n",
    "* a) 2\n",
    "* b) 0\n",
    "* c) 1\n",
    "* d) 3"
   ]
  },
  {
   "cell_type": "code",
   "execution_count": 50,
   "id": "a08c41c3",
   "metadata": {},
   "outputs": [
    {
     "data": {
      "text/html": [
       "<div>\n",
       "<style scoped>\n",
       "    .dataframe tbody tr th:only-of-type {\n",
       "        vertical-align: middle;\n",
       "    }\n",
       "\n",
       "    .dataframe tbody tr th {\n",
       "        vertical-align: top;\n",
       "    }\n",
       "\n",
       "    .dataframe thead th {\n",
       "        text-align: right;\n",
       "    }\n",
       "</style>\n",
       "<table border=\"1\" class=\"dataframe\">\n",
       "  <thead>\n",
       "    <tr style=\"text-align: right;\">\n",
       "      <th></th>\n",
       "      <th>Fruits</th>\n",
       "      <th>Price</th>\n",
       "    </tr>\n",
       "  </thead>\n",
       "  <tbody>\n",
       "    <tr>\n",
       "      <th>0</th>\n",
       "      <td>apple</td>\n",
       "      <td>205.0</td>\n",
       "    </tr>\n",
       "    <tr>\n",
       "      <th>1</th>\n",
       "      <td>banana</td>\n",
       "      <td>205.0</td>\n",
       "    </tr>\n",
       "    <tr>\n",
       "      <th>2</th>\n",
       "      <td>apple</td>\n",
       "      <td>205.0</td>\n",
       "    </tr>\n",
       "    <tr>\n",
       "      <th>3</th>\n",
       "      <td>apple</td>\n",
       "      <td>200.0</td>\n",
       "    </tr>\n",
       "    <tr>\n",
       "      <th>4</th>\n",
       "      <td>banana</td>\n",
       "      <td>40.0</td>\n",
       "    </tr>\n",
       "    <tr>\n",
       "      <th>5</th>\n",
       "      <td>apple</td>\n",
       "      <td>210.0</td>\n",
       "    </tr>\n",
       "    <tr>\n",
       "      <th>6</th>\n",
       "      <td>kiwi</td>\n",
       "      <td>300.0</td>\n",
       "    </tr>\n",
       "    <tr>\n",
       "      <th>7</th>\n",
       "      <td>kiwi</td>\n",
       "      <td>320.0</td>\n",
       "    </tr>\n",
       "    <tr>\n",
       "      <th>8</th>\n",
       "      <td>banana</td>\n",
       "      <td>320.0</td>\n",
       "    </tr>\n",
       "    <tr>\n",
       "      <th>9</th>\n",
       "      <td>apple</td>\n",
       "      <td>180.0</td>\n",
       "    </tr>\n",
       "    <tr>\n",
       "      <th>10</th>\n",
       "      <td>kiwi</td>\n",
       "      <td>350.0</td>\n",
       "    </tr>\n",
       "    <tr>\n",
       "      <th>11</th>\n",
       "      <td>apple</td>\n",
       "      <td>350.0</td>\n",
       "    </tr>\n",
       "    <tr>\n",
       "      <th>12</th>\n",
       "      <td>banana</td>\n",
       "      <td>35.0</td>\n",
       "    </tr>\n",
       "    <tr>\n",
       "      <th>13</th>\n",
       "      <td>grape</td>\n",
       "      <td>35.0</td>\n",
       "    </tr>\n",
       "    <tr>\n",
       "      <th>14</th>\n",
       "      <td>apple</td>\n",
       "      <td>215.0</td>\n",
       "    </tr>\n",
       "    <tr>\n",
       "      <th>15</th>\n",
       "      <td>banana</td>\n",
       "      <td>40.0</td>\n",
       "    </tr>\n",
       "    <tr>\n",
       "      <th>16</th>\n",
       "      <td>apple</td>\n",
       "      <td>40.0</td>\n",
       "    </tr>\n",
       "    <tr>\n",
       "      <th>17</th>\n",
       "      <td>apple</td>\n",
       "      <td>40.0</td>\n",
       "    </tr>\n",
       "    <tr>\n",
       "      <th>18</th>\n",
       "      <td>grape</td>\n",
       "      <td>NaN</td>\n",
       "    </tr>\n",
       "  </tbody>\n",
       "</table>\n",
       "</div>"
      ],
      "text/plain": [
       "    Fruits  Price\n",
       "0    apple  205.0\n",
       "1   banana  205.0\n",
       "2    apple  205.0\n",
       "3    apple  200.0\n",
       "4   banana   40.0\n",
       "5    apple  210.0\n",
       "6     kiwi  300.0\n",
       "7     kiwi  320.0\n",
       "8   banana  320.0\n",
       "9    apple  180.0\n",
       "10    kiwi  350.0\n",
       "11   apple  350.0\n",
       "12  banana   35.0\n",
       "13   grape   35.0\n",
       "14   apple  215.0\n",
       "15  banana   40.0\n",
       "16   apple   40.0\n",
       "17   apple   40.0\n",
       "18   grape    NaN"
      ]
     },
     "execution_count": 50,
     "metadata": {},
     "output_type": "execute_result"
    }
   ],
   "source": [
    "df2['Price'] = pd.to_numeric(df2['Price'])\n",
    "df2['Price'] = df2['Price'].ffill(limit=1).bfill(limit=1)\n",
    "df2"
   ]
  },
  {
   "cell_type": "markdown",
   "id": "87265a41",
   "metadata": {},
   "source": [
    "### 31. a = pd.Series([np.nan, 1, 2, np.nan, np.nan, np.nan, np.nan, 4, 5, 7]) What will be the output of a.interpolate()\n",
    "\n",
    "* a) [nan,1.0,2.0,2.3,2.7,3.1,3.5,4.0,5.0,7.0]\n",
    "* b) [nan,1.0,2.0,2.5,2.9,3.3,3.8,4.0,5.0,7.0]\n",
    "* c) [nan,1.0,2.0,2.4,2.8,3.2,3.6,4.0,5.0,7.0]\n",
    "* d) Error"
   ]
  },
  {
   "cell_type": "code",
   "execution_count": 51,
   "id": "10ab2330",
   "metadata": {},
   "outputs": [
    {
     "data": {
      "text/plain": [
       "0    NaN\n",
       "1    1.0\n",
       "2    2.0\n",
       "3    2.4\n",
       "4    2.8\n",
       "5    3.2\n",
       "6    3.6\n",
       "7    4.0\n",
       "8    5.0\n",
       "9    7.0\n",
       "dtype: float64"
      ]
     },
     "execution_count": 51,
     "metadata": {},
     "output_type": "execute_result"
    }
   ],
   "source": [
    "a = pd.Series([np.nan, 1, 2, np.nan, np.nan, np.nan, np.nan, 4, 5, 7])\n",
    "\n",
    "a.interpolate()"
   ]
  },
  {
   "cell_type": "markdown",
   "id": "b578656c",
   "metadata": {},
   "source": [
    "### 32. What is the use of the normalization parameter in the crosstab method of pandas\n",
    "\n",
    "* a) It is used to normalize values by dividing them by the total count\n",
    "* b) to add margins\n",
    "* c) ther is no parameter called as normalize in crosstab\n",
    "* d) Both a & c"
   ]
  },
  {
   "cell_type": "markdown",
   "id": "20006b22",
   "metadata": {},
   "source": [
    "##### answer--a)"
   ]
  },
  {
   "cell_type": "code",
   "execution_count": null,
   "id": "f3447a6b",
   "metadata": {},
   "outputs": [],
   "source": []
  },
  {
   "cell_type": "code",
   "execution_count": null,
   "id": "d95fa293",
   "metadata": {},
   "outputs": [],
   "source": []
  },
  {
   "cell_type": "code",
   "execution_count": null,
   "id": "047947f3",
   "metadata": {},
   "outputs": [],
   "source": []
  },
  {
   "cell_type": "code",
   "execution_count": null,
   "id": "f4605afb",
   "metadata": {},
   "outputs": [],
   "source": []
  }
 ],
 "metadata": {
  "kernelspec": {
   "display_name": "Python 3 (ipykernel)",
   "language": "python",
   "name": "python3"
  },
  "language_info": {
   "codemirror_mode": {
    "name": "ipython",
    "version": 3
   },
   "file_extension": ".py",
   "mimetype": "text/x-python",
   "name": "python",
   "nbconvert_exporter": "python",
   "pygments_lexer": "ipython3",
   "version": "3.11.5"
  }
 },
 "nbformat": 4,
 "nbformat_minor": 5
}
